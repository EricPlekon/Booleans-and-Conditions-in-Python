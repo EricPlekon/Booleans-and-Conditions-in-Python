{
 "cells": [
  {
   "cell_type": "code",
   "execution_count": 1,
   "id": "9fb0cbab",
   "metadata": {},
   "outputs": [
    {
     "name": "stdout",
     "output_type": "stream",
     "text": [
      "Can a 19-year old run for president? False\n",
      "Can a 45-year old run for president? True\n"
     ]
    }
   ],
   "source": [
    "# Boolean if a 19 or 45 year old can run for president\n",
    "def can_run_for_president(age):\n",
    "    'Can someone of the given age run for president in the US'\n",
    "    # The US Constitution says you must be at least 35 years old\n",
    "    return age >= 35\n",
    "\n",
    "print('Can a 19-year old run for president?', can_run_for_president(19))\n",
    "print('Can a 45-year old run for president?', can_run_for_president(45))"
   ]
  },
  {
   "cell_type": "code",
   "execution_count": 2,
   "id": "7f0382b5",
   "metadata": {},
   "outputs": [
    {
     "data": {
      "text/plain": [
       "True"
      ]
     },
     "execution_count": 2,
     "metadata": {},
     "output_type": "execute_result"
    }
   ],
   "source": [
    "3.0 == 3"
   ]
  },
  {
   "cell_type": "code",
   "execution_count": 3,
   "id": "d578daed",
   "metadata": {},
   "outputs": [
    {
     "data": {
      "text/plain": [
       "False"
      ]
     },
     "execution_count": 3,
     "metadata": {},
     "output_type": "execute_result"
    }
   ],
   "source": [
    "# Cannot detect strings\n",
    "'3' == 3"
   ]
  },
  {
   "cell_type": "code",
   "execution_count": 4,
   "id": "3ad2b48a",
   "metadata": {},
   "outputs": [
    {
     "name": "stdout",
     "output_type": "stream",
     "text": [
      "Is 100 odd? False\n",
      "Is -1 odd? True\n"
     ]
    }
   ],
   "source": [
    "# Booleans whether or not 100 or -1 are odd numbers\n",
    "def is_odd(n):\n",
    "    return (n % 2) == 1\n",
    "\n",
    "print('Is 100 odd?', is_odd(100))\n",
    "print('Is -1 odd?', is_odd(-1))"
   ]
  },
  {
   "cell_type": "code",
   "execution_count": 5,
   "id": "80cfa981",
   "metadata": {},
   "outputs": [
    {
     "name": "stdout",
     "output_type": "stream",
     "text": [
      "False\n",
      "False\n",
      "True\n"
     ]
    }
   ],
   "source": [
    "# combined using 'and'\n",
    "def can_run_for_president(age, is_natural_born_citizen):\n",
    "    'Can someone of the given age run for president in the US'\n",
    "    # The US Constitution says you must be at least 35 years old\n",
    "    return is_natural_born_citizen and (age >= 35)\n",
    "\n",
    "print(can_run_for_president(19, True))\n",
    "print(can_run_for_president(55, False))\n",
    "print(can_run_for_president(55, True))"
   ]
  },
  {
   "cell_type": "markdown",
   "id": "d01cb0f9",
   "metadata": {},
   "source": [
    "## Conditionals"
   ]
  },
  {
   "cell_type": "code",
   "execution_count": 6,
   "id": "1d41aa2b",
   "metadata": {},
   "outputs": [
    {
     "name": "stdout",
     "output_type": "stream",
     "text": [
      "0 is zero\n",
      "-15 is negative\n"
     ]
    }
   ],
   "source": [
    "def inspect(x):\n",
    "    if x == 0 :\n",
    "        print(x, 'is zero')\n",
    "    elif x > 0:\n",
    "        print(x, 'is positive')\n",
    "    elif x < 0:\n",
    "        print(x, 'is negative')\n",
    "    else:\n",
    "        print(x, \"is unlike anything I've ever seen...\")\n",
    "        \n",
    "inspect(0)\n",
    "inspect(-15)"
   ]
  },
  {
   "cell_type": "code",
   "execution_count": 7,
   "id": "685a0f7c",
   "metadata": {},
   "outputs": [
    {
     "name": "stdout",
     "output_type": "stream",
     "text": [
      "Only printed when x is positive; x = 1\n",
      "Also only printed when x is positive; x = 1\n",
      "Always printed, regardless of x's  value; x = 1\n",
      "Always printed, regardless of x's  value; x = 0\n"
     ]
    }
   ],
   "source": [
    "def f(x):\n",
    "    if x > 0:\n",
    "        print(\"Only printed when x is positive; x =\", x)\n",
    "        print(\"Also only printed when x is positive; x =\", x)\n",
    "    print(\"Always printed, regardless of x's  value; x =\", x)\n",
    "    \n",
    "f(1)\n",
    "f(0)"
   ]
  },
  {
   "cell_type": "markdown",
   "id": "279fa7d0",
   "metadata": {},
   "source": [
    "## Boolean conversion"
   ]
  },
  {
   "cell_type": "code",
   "execution_count": 8,
   "id": "6db89176",
   "metadata": {},
   "outputs": [
    {
     "name": "stdout",
     "output_type": "stream",
     "text": [
      "True\n",
      "False\n",
      "True\n",
      "False\n"
     ]
    }
   ],
   "source": [
    "print(bool(1)) # all numbers are treated as true, except 0\n",
    "print(bool(0))\n",
    "print(bool('asf')) # all strings are treated as true, except the empty string ''\n",
    "print(bool(''))"
   ]
  },
  {
   "cell_type": "code",
   "execution_count": null,
   "id": "19d02bee",
   "metadata": {},
   "outputs": [],
   "source": []
  }
 ],
 "metadata": {
  "kernelspec": {
   "display_name": "Python 3 (ipykernel)",
   "language": "python",
   "name": "python3"
  },
  "language_info": {
   "codemirror_mode": {
    "name": "ipython",
    "version": 3
   },
   "file_extension": ".py",
   "mimetype": "text/x-python",
   "name": "python",
   "nbconvert_exporter": "python",
   "pygments_lexer": "ipython3",
   "version": "3.11.5"
  }
 },
 "nbformat": 4,
 "nbformat_minor": 5
}
